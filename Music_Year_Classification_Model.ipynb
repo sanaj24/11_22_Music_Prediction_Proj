{
  "cells": [
    {
      "cell_type": "markdown",
      "metadata": {
        "id": "view-in-github",
        "colab_type": "text"
      },
      "source": [
        "<a href=\"https://colab.research.google.com/github/sjayy820/Winter_22_Music_Prediction_Proj/blob/main/Music_Year_Classification_Model.ipynb\" target=\"_parent\"><img src=\"https://colab.research.google.com/assets/colab-badge.svg\" alt=\"Open In Colab\"/></a>"
      ]
    },
    {
      "cell_type": "markdown",
      "metadata": {
        "id": "U_0EVm_yWom-"
      },
      "source": [
        "Music Year Classification Semester Project"
      ]
    },
    {
      "cell_type": "code",
      "source": [
        "from google.colab import drive\n",
        "drive.mount('/content/drive')"
      ],
      "metadata": {
        "colab": {
          "base_uri": "https://localhost:8080/"
        },
        "id": "kL50rMarD6Zc",
        "outputId": "6e01d9b6-1dd4-4b0f-bb81-7df0d0306b12"
      },
      "execution_count": 6,
      "outputs": [
        {
          "output_type": "stream",
          "name": "stdout",
          "text": [
            "Mounted at /content/drive\n"
          ]
        }
      ]
    },
    {
      "cell_type": "code",
      "execution_count": 1,
      "metadata": {
        "id": "koRDA0aXWsvS"
      },
      "outputs": [],
      "source": [
        "!wget https://archive.ics.uci.edu/ml/machine-learning-databases/00203/YearPredictionMSD.txt.zip &> /dev/null"
      ]
    },
    {
      "cell_type": "code",
      "execution_count": 8,
      "metadata": {
        "colab": {
          "base_uri": "https://localhost:8080/"
        },
        "id": "LBh3_Jqjc4f5",
        "outputId": "edcd9e9c-034e-433b-f9b8-3d84c93f895e"
      },
      "outputs": [
        {
          "output_type": "stream",
          "name": "stdout",
          "text": [
            "mkdir: cannot create directory ‘/content/drive/MyDrive/semester-proj/data’: File exists\n",
            "Archive:  /content/YearPredictionMSD.txt.zip\n",
            "  inflating: /content/drive/MyDrive/semester-proj/data/YearPredictionMSD.txt  \n"
          ]
        }
      ],
      "source": [
        "# Creating a folder for the unzipped file\n",
        "!mkdir /content/drive/MyDrive/semester-proj/data\n",
        "\n",
        "# Unzipping the compressed file to the new folder\n",
        "!unzip /content/YearPredictionMSD.txt.zip -d /content/drive/MyDrive/semester-proj/data\n",
        "\n",
        "# Renaming the unzipped file songdata.txt\n",
        "!mv /content/drive/MyDrive/semester-proj/data/YearPredictionMSD.txt /content/drive/MyDrive/semester-proj/data/songdata.txt"
      ]
    },
    {
      "cell_type": "code",
      "execution_count": 3,
      "metadata": {
        "id": "fxiiJwkleKNM"
      },
      "outputs": [],
      "source": [
        "import pandas as pd\n",
        "import torch\n",
        "from torch.utils.data import Dataset,  DataLoader\n",
        "\n",
        "# Configuring display settings of pandas output\n"
      ]
    },
    {
      "cell_type": "markdown",
      "metadata": {
        "id": "_lShWDN0eVfC"
      },
      "source": [
        "saving txt file"
      ]
    },
    {
      "cell_type": "code",
      "execution_count": 4,
      "metadata": {
        "id": "g6MTYP5GeWqJ"
      },
      "outputs": [],
      "source": [
        "BASE_PATH = '/content/drive/MyDrive/semester-proj/proj2_assets/'\n"
      ]
    },
    {
      "cell_type": "code",
      "execution_count": 9,
      "metadata": {
        "id": "SbM36CwoekFR"
      },
      "outputs": [],
      "source": [
        "df = pd.read_csv(BASE_PATH + 'songdata.txt', header=None)"
      ]
    },
    {
      "cell_type": "markdown",
      "source": [
        "Creating Dataset"
      ],
      "metadata": {
        "id": "U05rcUumMMq2"
      }
    },
    {
      "cell_type": "code",
      "execution_count": 10,
      "metadata": {
        "id": "iEDBwpznfyc9",
        "colab": {
          "base_uri": "https://localhost:8080/",
          "height": 1000
        },
        "outputId": "b19c2689-af15-4241-fd14-b5aeb295d2a1"
      },
      "outputs": [
        {
          "output_type": "stream",
          "name": "stdout",
          "text": [
            "              1          2          3         4         5         6   \\\n",
            "311436  49.17188   62.73959   14.31399 -16.93607 -14.09541 -16.68930   \n",
            "157334  40.04049   38.81936    4.17821  -3.85786  19.91331   4.53515   \n",
            "175479  38.39703  -97.66200   82.58000  22.60320 -34.64483  43.46962   \n",
            "104208  43.11373  -42.14873   17.92282 -12.89799 -13.02431  -8.88985   \n",
            "217046  40.99011   28.29568   25.99865  -2.59934  -8.57268 -21.33259   \n",
            "...          ...        ...        ...       ...       ...       ...   \n",
            "192476  29.24625  -49.19251   22.07354 -19.56828  -0.47925 -25.95330   \n",
            "17730   45.17228   12.38762    0.18377   1.38815  21.97594  -5.01136   \n",
            "28030   36.33370 -115.66810 -109.28076  11.42034  28.89100   3.89276   \n",
            "277869  35.53111  -46.39203   -2.47086 -36.59078   4.52448 -22.51886   \n",
            "249342  46.60109   -0.60576    0.59589  34.84534  14.39635 -23.62161   \n",
            "\n",
            "              7         8         9         10  ...         81         82  \\\n",
            "311436 -19.58937  -7.45666  10.33777   1.27880  ...  -10.24096  -60.29800   \n",
            "157334 -20.25812  -3.51810  -9.59911   2.31603  ...   44.65713 -362.92604   \n",
            "175479 -47.83991  -1.17269  21.26217   4.58731  ...   74.94066 -306.92476   \n",
            "104208 -13.03507 -10.49904   2.78457  -5.77142  ...   -4.62098   15.50655   \n",
            "217046  -6.51331   3.04725   5.50751   2.52701  ...  -24.00609 -149.39541   \n",
            "...          ...       ...       ...       ...  ...        ...        ...   \n",
            "192476 -19.41915  -1.49298  11.40667   0.60439  ...   18.68249  -54.84056   \n",
            "17730   -8.20528  -1.96758  -1.57767  -2.36586  ...    8.27624  -23.35829   \n",
            "28030  -25.16017 -39.47978  21.92684  -7.10760  ...    5.38895    7.41495   \n",
            "277869 -47.36902  -7.95194  37.49349  12.80848  ...  163.83947 -314.20038   \n",
            "249342   0.43527  -1.35546  -4.62616   9.56740  ...   31.87129  -23.52421   \n",
            "\n",
            "               83         84        85         86         87        88  \\\n",
            "311436   40.53085   56.05502   0.65201  -39.28712  -45.97089  -3.02050   \n",
            "157334  107.51088   61.78211  26.96166   14.29661  -43.25983  -9.93716   \n",
            "175479  318.65842  278.02604 -41.50428  -85.47291  404.56742  -2.58261   \n",
            "104208   88.36075   99.03019   8.63781  -36.21278  -89.14925  -2.97198   \n",
            "217046  -48.81593   30.45944  -9.80037   26.99337   54.58418   1.92071   \n",
            "...           ...        ...       ...        ...        ...       ...   \n",
            "192476   58.34831   60.10714   1.87540 -123.73168  120.06135  13.83720   \n",
            "17730    61.29325  175.45858   4.18668   91.13393 -217.27843   3.85049   \n",
            "28030   140.86367 -235.51970  10.14270 -155.07054   44.89989   9.10047   \n",
            "277869  129.81544  244.36055  -1.73860   10.86748  -64.74790   2.45125   \n",
            "249342 -119.58062  -11.61975   9.43856   -7.45882   -4.90709 -17.03898   \n",
            "\n",
            "               89        90  \n",
            "311436   35.35374  -0.11586  \n",
            "157334   -0.98433  -8.18250  \n",
            "175479  201.62247  50.75366  \n",
            "104208  -18.49050  -7.44839  \n",
            "217046   27.79439  13.68099  \n",
            "...           ...       ...  \n",
            "192476   67.38546  35.79759  \n",
            "17730   -47.21193 -35.62052  \n",
            "28030   323.27740  11.68093  \n",
            "277869 -221.28436  16.29892  \n",
            "249342  169.42511 -14.67236  \n",
            "\n",
            "[515345 rows x 90 columns]\n",
            "311436    1975\n",
            "157334    2007\n",
            "175479    1992\n",
            "104208    2006\n",
            "217046    1983\n",
            "          ... \n",
            "192476    1997\n",
            "17730     2003\n",
            "28030     2002\n",
            "277869    1993\n",
            "249342    2005\n",
            "Name: 0, Length: 515345, dtype: int64\n"
          ]
        },
        {
          "output_type": "execute_result",
          "data": {
            "text/plain": [
              "              1         2         3         4         5         6         7   \\\n",
              "311436  0.953391  1.191346  0.160359 -1.108891 -0.329902 -0.557432 -1.180238   \n",
              "157334 -0.551562  0.727599 -0.127029 -0.307667  1.157743  1.093280 -1.226131   \n",
              "175479 -0.822422 -1.918396  2.095963  1.313444 -1.228795  4.121373 -3.118942   \n",
              "104208 -0.045059 -0.842148  0.262683 -0.861502 -0.283048  0.049163 -0.730447   \n",
              "217046 -0.395054  0.523574  0.491664 -0.230565 -0.088321 -0.918560 -0.282889   \n",
              "\n",
              "              8         9         10  ...        81        82        83  \\\n",
              "311436 -0.711144  0.624585 -0.092429  ... -0.809865  0.074955 -0.008276   \n",
              "157334 -0.216587 -1.259299  0.066406  ...  0.900375 -1.648254  0.539713   \n",
              "175479  0.077921  1.656858  0.414216  ...  1.843798 -1.329374  2.267191   \n",
              "104208 -1.093168 -0.089135 -1.172057  ... -0.634786  0.506597  0.383038   \n",
              "217046  0.607809  0.168162  0.098714  ... -1.238690 -0.432379 -0.739256   \n",
              "\n",
              "              84        85        86        87        88        89        90  \n",
              "311436  0.190645  0.020806 -0.497749 -0.112978 -0.560380  0.082554 -0.065417  \n",
              "157334  0.250898  1.648701 -0.029474 -0.097395 -1.078615 -0.113277 -0.430612  \n",
              "175479  2.525937 -2.587591 -0.901372  2.476660 -0.527571  0.978600  2.237562  \n",
              "104208  0.642774  0.514923 -0.470882 -0.361161 -0.556744 -0.207620 -0.397377  \n",
              "217046 -0.078639 -0.625929  0.081485  0.465000 -0.190156  0.041816  0.559198  \n",
              "\n",
              "[5 rows x 90 columns]"
            ],
            "text/html": [
              "\n",
              "  <div id=\"df-a62ef889-e9bd-4f82-b78b-26482f94a31f\">\n",
              "    <div class=\"colab-df-container\">\n",
              "      <div>\n",
              "<style scoped>\n",
              "    .dataframe tbody tr th:only-of-type {\n",
              "        vertical-align: middle;\n",
              "    }\n",
              "\n",
              "    .dataframe tbody tr th {\n",
              "        vertical-align: top;\n",
              "    }\n",
              "\n",
              "    .dataframe thead th {\n",
              "        text-align: right;\n",
              "    }\n",
              "</style>\n",
              "<table border=\"1\" class=\"dataframe\">\n",
              "  <thead>\n",
              "    <tr style=\"text-align: right;\">\n",
              "      <th></th>\n",
              "      <th>1</th>\n",
              "      <th>2</th>\n",
              "      <th>3</th>\n",
              "      <th>4</th>\n",
              "      <th>5</th>\n",
              "      <th>6</th>\n",
              "      <th>7</th>\n",
              "      <th>8</th>\n",
              "      <th>9</th>\n",
              "      <th>10</th>\n",
              "      <th>...</th>\n",
              "      <th>81</th>\n",
              "      <th>82</th>\n",
              "      <th>83</th>\n",
              "      <th>84</th>\n",
              "      <th>85</th>\n",
              "      <th>86</th>\n",
              "      <th>87</th>\n",
              "      <th>88</th>\n",
              "      <th>89</th>\n",
              "      <th>90</th>\n",
              "    </tr>\n",
              "  </thead>\n",
              "  <tbody>\n",
              "    <tr>\n",
              "      <th>311436</th>\n",
              "      <td>0.953391</td>\n",
              "      <td>1.191346</td>\n",
              "      <td>0.160359</td>\n",
              "      <td>-1.108891</td>\n",
              "      <td>-0.329902</td>\n",
              "      <td>-0.557432</td>\n",
              "      <td>-1.180238</td>\n",
              "      <td>-0.711144</td>\n",
              "      <td>0.624585</td>\n",
              "      <td>-0.092429</td>\n",
              "      <td>...</td>\n",
              "      <td>-0.809865</td>\n",
              "      <td>0.074955</td>\n",
              "      <td>-0.008276</td>\n",
              "      <td>0.190645</td>\n",
              "      <td>0.020806</td>\n",
              "      <td>-0.497749</td>\n",
              "      <td>-0.112978</td>\n",
              "      <td>-0.560380</td>\n",
              "      <td>0.082554</td>\n",
              "      <td>-0.065417</td>\n",
              "    </tr>\n",
              "    <tr>\n",
              "      <th>157334</th>\n",
              "      <td>-0.551562</td>\n",
              "      <td>0.727599</td>\n",
              "      <td>-0.127029</td>\n",
              "      <td>-0.307667</td>\n",
              "      <td>1.157743</td>\n",
              "      <td>1.093280</td>\n",
              "      <td>-1.226131</td>\n",
              "      <td>-0.216587</td>\n",
              "      <td>-1.259299</td>\n",
              "      <td>0.066406</td>\n",
              "      <td>...</td>\n",
              "      <td>0.900375</td>\n",
              "      <td>-1.648254</td>\n",
              "      <td>0.539713</td>\n",
              "      <td>0.250898</td>\n",
              "      <td>1.648701</td>\n",
              "      <td>-0.029474</td>\n",
              "      <td>-0.097395</td>\n",
              "      <td>-1.078615</td>\n",
              "      <td>-0.113277</td>\n",
              "      <td>-0.430612</td>\n",
              "    </tr>\n",
              "    <tr>\n",
              "      <th>175479</th>\n",
              "      <td>-0.822422</td>\n",
              "      <td>-1.918396</td>\n",
              "      <td>2.095963</td>\n",
              "      <td>1.313444</td>\n",
              "      <td>-1.228795</td>\n",
              "      <td>4.121373</td>\n",
              "      <td>-3.118942</td>\n",
              "      <td>0.077921</td>\n",
              "      <td>1.656858</td>\n",
              "      <td>0.414216</td>\n",
              "      <td>...</td>\n",
              "      <td>1.843798</td>\n",
              "      <td>-1.329374</td>\n",
              "      <td>2.267191</td>\n",
              "      <td>2.525937</td>\n",
              "      <td>-2.587591</td>\n",
              "      <td>-0.901372</td>\n",
              "      <td>2.476660</td>\n",
              "      <td>-0.527571</td>\n",
              "      <td>0.978600</td>\n",
              "      <td>2.237562</td>\n",
              "    </tr>\n",
              "    <tr>\n",
              "      <th>104208</th>\n",
              "      <td>-0.045059</td>\n",
              "      <td>-0.842148</td>\n",
              "      <td>0.262683</td>\n",
              "      <td>-0.861502</td>\n",
              "      <td>-0.283048</td>\n",
              "      <td>0.049163</td>\n",
              "      <td>-0.730447</td>\n",
              "      <td>-1.093168</td>\n",
              "      <td>-0.089135</td>\n",
              "      <td>-1.172057</td>\n",
              "      <td>...</td>\n",
              "      <td>-0.634786</td>\n",
              "      <td>0.506597</td>\n",
              "      <td>0.383038</td>\n",
              "      <td>0.642774</td>\n",
              "      <td>0.514923</td>\n",
              "      <td>-0.470882</td>\n",
              "      <td>-0.361161</td>\n",
              "      <td>-0.556744</td>\n",
              "      <td>-0.207620</td>\n",
              "      <td>-0.397377</td>\n",
              "    </tr>\n",
              "    <tr>\n",
              "      <th>217046</th>\n",
              "      <td>-0.395054</td>\n",
              "      <td>0.523574</td>\n",
              "      <td>0.491664</td>\n",
              "      <td>-0.230565</td>\n",
              "      <td>-0.088321</td>\n",
              "      <td>-0.918560</td>\n",
              "      <td>-0.282889</td>\n",
              "      <td>0.607809</td>\n",
              "      <td>0.168162</td>\n",
              "      <td>0.098714</td>\n",
              "      <td>...</td>\n",
              "      <td>-1.238690</td>\n",
              "      <td>-0.432379</td>\n",
              "      <td>-0.739256</td>\n",
              "      <td>-0.078639</td>\n",
              "      <td>-0.625929</td>\n",
              "      <td>0.081485</td>\n",
              "      <td>0.465000</td>\n",
              "      <td>-0.190156</td>\n",
              "      <td>0.041816</td>\n",
              "      <td>0.559198</td>\n",
              "    </tr>\n",
              "  </tbody>\n",
              "</table>\n",
              "<p>5 rows × 90 columns</p>\n",
              "</div>\n",
              "      <button class=\"colab-df-convert\" onclick=\"convertToInteractive('df-a62ef889-e9bd-4f82-b78b-26482f94a31f')\"\n",
              "              title=\"Convert this dataframe to an interactive table.\"\n",
              "              style=\"display:none;\">\n",
              "        \n",
              "  <svg xmlns=\"http://www.w3.org/2000/svg\" height=\"24px\"viewBox=\"0 0 24 24\"\n",
              "       width=\"24px\">\n",
              "    <path d=\"M0 0h24v24H0V0z\" fill=\"none\"/>\n",
              "    <path d=\"M18.56 5.44l.94 2.06.94-2.06 2.06-.94-2.06-.94-.94-2.06-.94 2.06-2.06.94zm-11 1L8.5 8.5l.94-2.06 2.06-.94-2.06-.94L8.5 2.5l-.94 2.06-2.06.94zm10 10l.94 2.06.94-2.06 2.06-.94-2.06-.94-.94-2.06-.94 2.06-2.06.94z\"/><path d=\"M17.41 7.96l-1.37-1.37c-.4-.4-.92-.59-1.43-.59-.52 0-1.04.2-1.43.59L10.3 9.45l-7.72 7.72c-.78.78-.78 2.05 0 2.83L4 21.41c.39.39.9.59 1.41.59.51 0 1.02-.2 1.41-.59l7.78-7.78 2.81-2.81c.8-.78.8-2.07 0-2.86zM5.41 20L4 18.59l7.72-7.72 1.47 1.35L5.41 20z\"/>\n",
              "  </svg>\n",
              "      </button>\n",
              "      \n",
              "  <style>\n",
              "    .colab-df-container {\n",
              "      display:flex;\n",
              "      flex-wrap:wrap;\n",
              "      gap: 12px;\n",
              "    }\n",
              "\n",
              "    .colab-df-convert {\n",
              "      background-color: #E8F0FE;\n",
              "      border: none;\n",
              "      border-radius: 50%;\n",
              "      cursor: pointer;\n",
              "      display: none;\n",
              "      fill: #1967D2;\n",
              "      height: 32px;\n",
              "      padding: 0 0 0 0;\n",
              "      width: 32px;\n",
              "    }\n",
              "\n",
              "    .colab-df-convert:hover {\n",
              "      background-color: #E2EBFA;\n",
              "      box-shadow: 0px 1px 2px rgba(60, 64, 67, 0.3), 0px 1px 3px 1px rgba(60, 64, 67, 0.15);\n",
              "      fill: #174EA6;\n",
              "    }\n",
              "\n",
              "    [theme=dark] .colab-df-convert {\n",
              "      background-color: #3B4455;\n",
              "      fill: #D2E3FC;\n",
              "    }\n",
              "\n",
              "    [theme=dark] .colab-df-convert:hover {\n",
              "      background-color: #434B5C;\n",
              "      box-shadow: 0px 1px 3px 1px rgba(0, 0, 0, 0.15);\n",
              "      filter: drop-shadow(0px 1px 2px rgba(0, 0, 0, 0.3));\n",
              "      fill: #FFFFFF;\n",
              "    }\n",
              "  </style>\n",
              "\n",
              "      <script>\n",
              "        const buttonEl =\n",
              "          document.querySelector('#df-a62ef889-e9bd-4f82-b78b-26482f94a31f button.colab-df-convert');\n",
              "        buttonEl.style.display =\n",
              "          google.colab.kernel.accessAllowed ? 'block' : 'none';\n",
              "\n",
              "        async function convertToInteractive(key) {\n",
              "          const element = document.querySelector('#df-a62ef889-e9bd-4f82-b78b-26482f94a31f');\n",
              "          const dataTable =\n",
              "            await google.colab.kernel.invokeFunction('convertToInteractive',\n",
              "                                                     [key], {});\n",
              "          if (!dataTable) return;\n",
              "\n",
              "          const docLinkHtml = 'Like what you see? Visit the ' +\n",
              "            '<a target=\"_blank\" href=https://colab.research.google.com/notebooks/data_table.ipynb>data table notebook</a>'\n",
              "            + ' to learn more about interactive tables.';\n",
              "          element.innerHTML = '';\n",
              "          dataTable['output_type'] = 'display_data';\n",
              "          await google.colab.output.renderOutput(dataTable, element);\n",
              "          const docLink = document.createElement('div');\n",
              "          docLink.innerHTML = docLinkHtml;\n",
              "          element.appendChild(docLink);\n",
              "        }\n",
              "      </script>\n",
              "    </div>\n",
              "  </div>\n",
              "  "
            ]
          },
          "metadata": {},
          "execution_count": 10
        }
      ],
      "source": [
        "\n",
        "\n",
        "# Verifying that the dataframe contains the right\n",
        "# data: strings as column names and valid values\n",
        "\n",
        "df.head(1)\n",
        "\n",
        "seed = 123\n",
        "df = df.sample(frac=1, random_state=seed)\n",
        "\n",
        "X = df.iloc[:, 1:]\n",
        "\n",
        "y = df.iloc[:, 0]\n",
        "\n",
        "print(X)\n",
        "print(y)\n",
        "\n",
        "\n",
        "\n",
        "# Standardizing X\n",
        "X = (X - X.mean())/X.std()\n",
        "\n",
        "# Printing the first five rows of standardized X\n",
        "X.head()\n"
      ]
    },
    {
      "cell_type": "code",
      "source": [
        "y = (y - y.mean())/y.std()\n",
        "\n",
        "# Printing the first five rows of standardized X\n",
        "y.head()"
      ],
      "metadata": {
        "colab": {
          "base_uri": "https://localhost:8080/"
        },
        "id": "4cD3eHvkieCm",
        "outputId": "8c2b5fad-2ae1-4713-dcaa-b7e2cb8679cb"
      },
      "execution_count": null,
      "outputs": [
        {
          "output_type": "execute_result",
          "data": {
            "text/plain": [
              "311436   -2.140425\n",
              "157334    0.787017\n",
              "175479   -0.585221\n",
              "104208    0.695534\n",
              "217046   -1.408564\n",
              "Name: 0, dtype: float64"
            ]
          },
          "metadata": {},
          "execution_count": 8
        }
      ]
    },
    {
      "cell_type": "markdown",
      "metadata": {
        "id": "cs4zx-18e5UT"
      },
      "source": [
        "Data Exploration "
      ]
    },
    {
      "cell_type": "code",
      "execution_count": null,
      "metadata": {
        "colab": {
          "base_uri": "https://localhost:8080/"
        },
        "id": "gufKEa58fbDA",
        "outputId": "ce88a7aa-4695-4af8-e297-6210dee3f68f"
      },
      "outputs": [
        {
          "output_type": "execute_result",
          "data": {
            "text/plain": [
              "311436   -2.140425\n",
              "157334    0.787017\n",
              "175479   -0.585221\n",
              "104208    0.695534\n",
              "217046   -1.408564\n",
              "Name: 0, dtype: float64"
            ]
          },
          "metadata": {},
          "execution_count": 9
        }
      ],
      "source": [
        "y.head()"
      ]
    },
    {
      "cell_type": "markdown",
      "source": [
        "train/test splitting "
      ],
      "metadata": {
        "id": "stfEVs5aMnuO"
      }
    },
    {
      "cell_type": "code",
      "source": [
        "\n",
        "# Splitting the datasets\n",
        "\n",
        "from sklearn.model_selection import train_test_split\n",
        "\n",
        "X_train, X_test, y_train, y_test = train_test_split(X, y, test_size=0.011, random_state=seed,shuffle=True)\n",
        "\n",
        "# Printing the shapes of the new datasets\n",
        "X_train.shape, y_train.shape, X_test.shape, y_test.shape\n",
        "# Writing a function to reset the indexes of the new datasets\n",
        "\n",
        "\n",
        "#"
      ],
      "metadata": {
        "colab": {
          "base_uri": "https://localhost:8080/"
        },
        "id": "lzoQwoh4MnZQ",
        "outputId": "aa681ada-b15b-4674-f327-6b0bbfb921e6"
      },
      "execution_count": null,
      "outputs": [
        {
          "output_type": "execute_result",
          "data": {
            "text/plain": [
              "((509676, 90), (509676,), (5669, 90), (5669,))"
            ]
          },
          "metadata": {},
          "execution_count": 10
        }
      ]
    },
    {
      "cell_type": "markdown",
      "source": [
        "creating dataset objects"
      ],
      "metadata": {
        "id": "m-UuRcbVNFBz"
      }
    },
    {
      "cell_type": "code",
      "source": [
        "class Dataset:\n",
        "    def __init__(self, X, y):\n",
        "       self.X = X.values\n",
        "       self.y = y.values\n",
        "       # self.X = torch.tensor(X.values).float()\n",
        "        #self.y = torch.tensor(y.values).float()\n",
        "\n",
        "        \n",
        "    def __len__(self):\n",
        "        return len(self.X)\n",
        "    \n",
        "    def __getitem__(self, idx):\n",
        "        return (\n",
        "            torch.tensor(self.X[idx], dtype=torch.float),\n",
        "            torch.tensor(self.y[idx], dtype=torch.float)\n",
        "  \n",
        "        )\n",
        "        \n",
        "      "
      ],
      "metadata": {
        "id": "JcnBPMXhMMXG"
      },
      "execution_count": null,
      "outputs": []
    },
    {
      "cell_type": "code",
      "source": [
        "train_dataset = Dataset(X_train, y_train)\n",
        "test_dataset = Dataset(X_test, y_test)\n",
        "\n",
        "print('First item of the train_dataset:\\n',train_dataset[0])\n",
        "print('\\n\\nLength of the train_dataset: ', len(train_dataset))\n",
        "print('\\n\\nLength of the test: ', len(test_dataset))"
      ],
      "metadata": {
        "colab": {
          "base_uri": "https://localhost:8080/"
        },
        "id": "1pysLwSiNHgD",
        "outputId": "1af09d16-5631-4166-9bbf-eeb42ad5cdeb"
      },
      "execution_count": null,
      "outputs": [
        {
          "output_type": "stream",
          "name": "stdout",
          "text": [
            "First item of the train_dataset:\n",
            " (tensor([-1.1643,  0.7182, -0.4167, -0.1158, -0.0459,  1.2464,  1.9297, -1.7247,\n",
            "        -1.9091, -3.7002, -2.0781, -2.6831, -0.3372,  0.1452,  1.8263,  0.5267,\n",
            "         0.6722,  0.5091,  0.7558,  2.1866,  0.9384,  2.1613,  0.9309,  1.2223,\n",
            "         0.0279,  0.3753,  0.3925,  0.3412,  0.3530, -0.3823, -0.1021,  1.8493,\n",
            "         0.0337,  0.4121,  0.2795, -0.3938, -0.3461, -0.8001, -1.5561, -0.0277,\n",
            "         3.4329, -1.9706,  0.6705,  0.5069,  2.8351, -0.5253,  0.6740,  1.5516,\n",
            "         0.6865, -0.7357,  1.9994, -2.9199,  0.2831, -1.0182, -1.0007,  1.0344,\n",
            "         0.6430, -1.5752,  0.7916, -0.8964,  1.6438,  3.4036,  0.0985, -0.8128,\n",
            "         4.3880, -3.1292,  0.7056,  0.8684,  0.9262,  0.2896,  0.5824, -1.0956,\n",
            "         0.8694, -0.8563, -0.2471,  0.4744,  0.9663,  2.4552, -1.3765, -0.4608,\n",
            "        -0.1884,  2.7007,  1.6918,  0.8612,  0.3139, -0.2887,  2.6562,  0.1020,\n",
            "        -0.3824,  0.3791]), tensor(-1.5915))\n",
            "\n",
            "\n",
            "Length of the train_dataset:  509676\n",
            "\n",
            "\n",
            "Length of the test:  5669\n"
          ]
        }
      ]
    },
    {
      "cell_type": "markdown",
      "source": [
        "DataLoader wrapper"
      ],
      "metadata": {
        "id": "9VRki0PCNgLD"
      }
    },
    {
      "cell_type": "code",
      "source": [
        "from torch.utils.data import DataLoader\n",
        "\n",
        "batchsize=32\n",
        "train_loader = DataLoader(train_dataset,shuffle=True, batch_size=batchsize)\n",
        "test_loader = DataLoader(test_dataset,shuffle=True, batch_size=batchsize)"
      ],
      "metadata": {
        "id": "NtZN4q1KNk63"
      },
      "execution_count": null,
      "outputs": []
    },
    {
      "cell_type": "markdown",
      "source": [
        "iteration loops"
      ],
      "metadata": {
        "id": "31HQ926DNjby"
      }
    },
    {
      "cell_type": "code",
      "source": [
        "type(train_dataset)"
      ],
      "metadata": {
        "colab": {
          "base_uri": "https://localhost:8080/"
        },
        "id": "cyuPkLSJQSa4",
        "outputId": "c52b2434-6e01-4bdd-e519-c6845b4ece47"
      },
      "execution_count": null,
      "outputs": [
        {
          "output_type": "execute_result",
          "data": {
            "text/plain": [
              "__main__.Dataset"
            ]
          },
          "metadata": {},
          "execution_count": 18
        }
      ]
    },
    {
      "cell_type": "markdown",
      "source": [
        "Network Training"
      ],
      "metadata": {
        "id": "BQh4E3LpN-u1"
      }
    },
    {
      "cell_type": "code",
      "source": [
        "input_size = 90 \n",
        "final_output_size = 1\n",
        "num_epochs = 5 \n",
        "  \n",
        "\n",
        "output_size1=50\n",
        "output_size2=24\n",
        "\n"
      ],
      "metadata": {
        "id": "SGXyNFg2OD8i"
      },
      "execution_count": null,
      "outputs": []
    },
    {
      "cell_type": "code",
      "source": [
        "import torch.nn as nn\n",
        "\n",
        "class NN(nn.Module):\n",
        "  \n",
        "  def __init__(self, input_size, final_output_size):\n",
        "    super(NN, self).__init__()\n",
        "    # Use ReLU activation function to avoid vanishing gradient. Try experimenting with different activation function\n",
        "   \n",
        "    # Input layer: try experimenting with different size for hidden layers\n",
        "    self.input_layer = nn.Linear(input_size, output_size1)\n",
        "    self.relu=nn.ReLU()  \n",
        "    #self.drop=nn.Dropout()\n",
        "\n",
        "    \n",
        "    # Hidden layers (Try experimenting with different numbers of hidden layers)\n",
        "    self.hidden1 = nn.Linear(output_size1, output_size2)\n",
        "    self.relu2=nn.ReLU()  \n",
        "    #self.drop2=nn.Dropout(\n",
        "\n",
        "    \n",
        "    # Output layer\n",
        "    self.output_layer = nn.Linear(output_size2, final_output_size)\n",
        "  \n",
        "  # 2. TODO: Define method for forwarding input data\n",
        "  def forward(self, sample):\n",
        "    # Pass input sample to input layer\n",
        "    out = self.input_layer(sample)\n",
        "    out = self.relu(out)\n",
        "    #out=self.drop(out)\n",
        "    # Forward input through all hidden layers\n",
        "    out = self.hidden1(out)\n",
        "    out = self.relu2(out)\n",
        "    #out=self.drop2(out)\n",
        "\n",
        "    #out = self.act(out)\n",
        "    #out=self.drop3(out)\n",
        "    # Forward to final output layer\n",
        "    out = self.output_layer(out)\n",
        "    return out\n",
        "\n",
        "# Initialize our model by passing in our hyperparameters defined previously\n",
        "nn_model = NN(input_size, final_output_size)\n",
        "print(\"My NN Model: \", nn_model)"
      ],
      "metadata": {
        "colab": {
          "base_uri": "https://localhost:8080/"
        },
        "id": "QYv4vR1vkLeR",
        "outputId": "93bac9fd-99b3-4269-fc1d-21b69a1468ae"
      },
      "execution_count": null,
      "outputs": [
        {
          "output_type": "stream",
          "name": "stdout",
          "text": [
            "My NN Model:  NN(\n",
            "  (input_layer): Linear(in_features=90, out_features=50, bias=True)\n",
            "  (relu): ReLU()\n",
            "  (hidden1): Linear(in_features=50, out_features=24, bias=True)\n",
            "  (relu2): ReLU()\n",
            "  (output_layer): Linear(in_features=24, out_features=1, bias=True)\n",
            ")\n"
          ]
        }
      ]
    },
    {
      "cell_type": "code",
      "source": [
        "loss_function = nn.MSELoss()\n",
        "optimizer = torch.optim.Adam(nn_model.parameters(), lr=0.01)  \n"
      ],
      "metadata": {
        "id": "n3TA1FtTk5QN"
      },
      "execution_count": null,
      "outputs": []
    },
    {
      "cell_type": "code",
      "source": [
        "losses = []\n",
        "n_epochs = 5\n",
        "\n",
        "\n",
        "from tqdm import tqdm\n",
        "for i in range(n_epochs):\n",
        "    for X, y in tqdm(train_loader, leave=False, desc='batch progress'):\n",
        "        optimizer.zero_grad()      \n",
        "        y_pred = nn_model(X)\n",
        "        # y # shape=[m]\n",
        "        # y_pred # shape=[m, 1]\n",
        "        \n",
        "                              #compute the output with forward propagation\n",
        "         \n",
        "              #compute the loss function\n",
        "        loss = loss_function(y_pred.squeeze(), y) \n",
        "                         #set the gradients to zero\n",
        "        loss.backward()                                     #backward propagation\n",
        "        optimizer.step()    \n",
        "\n",
        "\n",
        "        losses.append(loss.item())                          #gradient descent\n",
        "    print(f'{i+1} iterations completed, the current loss is: {loss:.4f}, rmse: {loss.sqrt():.4f}')\n",
        "    print(f'MSE: {loss.mean():.4f}')"
      ],
      "metadata": {
        "colab": {
          "base_uri": "https://localhost:8080/"
        },
        "id": "SiMLz67xedgy",
        "outputId": "754a8fe0-7b66-4289-b52d-47d154032c07"
      },
      "execution_count": null,
      "outputs": [
        {
          "output_type": "stream",
          "name": "stderr",
          "text": []
        },
        {
          "output_type": "stream",
          "name": "stdout",
          "text": [
            "1 iterations completed, the current loss is: 0.0997, rmse: 0.3157\n"
          ]
        },
        {
          "output_type": "stream",
          "name": "stderr",
          "text": []
        },
        {
          "output_type": "stream",
          "name": "stdout",
          "text": [
            "2 iterations completed, the current loss is: 0.8328, rmse: 0.9126\n"
          ]
        },
        {
          "output_type": "stream",
          "name": "stderr",
          "text": []
        },
        {
          "output_type": "stream",
          "name": "stdout",
          "text": [
            "3 iterations completed, the current loss is: 0.2748, rmse: 0.5242\n"
          ]
        },
        {
          "output_type": "stream",
          "name": "stderr",
          "text": []
        },
        {
          "output_type": "stream",
          "name": "stdout",
          "text": [
            "4 iterations completed, the current loss is: 0.1288, rmse: 0.3588\n"
          ]
        },
        {
          "output_type": "stream",
          "name": "stderr",
          "text": [
            "                                                                      "
          ]
        },
        {
          "output_type": "stream",
          "name": "stdout",
          "text": [
            "5 iterations completed, the current loss is: 0.1449, rmse: 0.3807\n"
          ]
        },
        {
          "output_type": "stream",
          "name": "stderr",
          "text": [
            "\r"
          ]
        }
      ]
    },
    {
      "cell_type": "code",
      "source": [
        "\n",
        "losses = []\n",
        "for X, y in tqdm(test_loader, leave=False, desc='batch progress'):\n",
        "    y_pred = nn_model(X) \n",
        "    loss = loss_function(y_pred.squeeze(), y) \n",
        "    losses.append(loss.item())\n",
        "\n",
        "\n",
        "#Different Metrics to Evalutate Regression Accuracy \n",
        "#RULE: lower better >>> MSE shows us best error score     \n",
        "print(f'RMSE: {loss.mean().sqrt():.4f}')\n",
        "print(f'MSE: {loss.mean():.4f}')\n",
        "\n",
        "# create a criterion to measure the mean absolute error\n",
        "mae = nn.L1Loss()\n",
        "\n",
        "# compute the loss (mean absolute error)\n",
        "output = mae(y_pred, y)\n",
        "\n",
        "print(f'MAE: {output:.4f}')\n",
        "\n",
        "\n",
        "\n"
      ],
      "metadata": {
        "colab": {
          "base_uri": "https://localhost:8080/"
        },
        "id": "7jeLQabHekCl",
        "outputId": "7b86c62a-85c2-43bf-c3cf-2cd2fe48d0ef"
      },
      "execution_count": null,
      "outputs": [
        {
          "output_type": "stream",
          "name": "stderr",
          "text": [
            "                                                                   "
          ]
        },
        {
          "output_type": "stream",
          "name": "stdout",
          "text": [
            "RMSE: 0.7533\n",
            "MSE: 0.5674\n",
            "MAE: 0.8584\n"
          ]
        },
        {
          "output_type": "stream",
          "name": "stderr",
          "text": [
            "\r"
          ]
        }
      ]
    }
  ],
  "metadata": {
    "accelerator": "GPU",
    "colab": {
      "provenance": [],
      "include_colab_link": true
    },
    "gpuClass": "standard",
    "kernelspec": {
      "display_name": "Python 3",
      "name": "python3"
    },
    "language_info": {
      "name": "python"
    }
  },
  "nbformat": 4,
  "nbformat_minor": 0
}